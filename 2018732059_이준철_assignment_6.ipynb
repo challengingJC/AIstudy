{
  "nbformat": 4,
  "nbformat_minor": 0,
  "metadata": {
    "colab": {
      "provenance": [],
      "authorship_tag": "ABX9TyPkyg2gTaFWDpq6LFQnbpGt",
      "include_colab_link": true
    },
    "kernelspec": {
      "name": "python3",
      "display_name": "Python 3"
    },
    "language_info": {
      "name": "python"
    }
  },
  "cells": [
    {
      "cell_type": "markdown",
      "metadata": {
        "id": "view-in-github",
        "colab_type": "text"
      },
      "source": [
        "<a href=\"https://colab.research.google.com/github/challengingJC/AIstudy/blob/main/2018732059_%EC%9D%B4%EC%A4%80%EC%B2%A0_assignment_6.ipynb\" target=\"_parent\"><img src=\"https://colab.research.google.com/assets/colab-badge.svg\" alt=\"Open In Colab\"/></a>"
      ]
    },
    {
      "cell_type": "markdown",
      "source": [
        "# Tensor manipulation\n",
        "### imports"
      ],
      "metadata": {
        "id": "g6Et0kxEgEuf"
      }
    },
    {
      "cell_type": "code",
      "source": [
        "import numpy as np\n",
        "import torch"
      ],
      "metadata": {
        "id": "94aAaaKoAH3X"
      },
      "execution_count": null,
      "outputs": []
    },
    {
      "cell_type": "markdown",
      "source": [
        "# 1 Tensor in pytorch\n",
        "\n",
        "# Rank, Shape, Axis\n",
        "## Rank\n",
        "- 열벡터에 의해 span된 벡터공간의 차원.\n",
        "\n",
        "## Shape\n",
        "- 각 Axis가 몇 개의 element를 가지고 있는지 나타내준다.\n",
        "\n",
        "## Axis\n",
        "- Axis of a tensor is a specific dimension of a tensor. 단, 세는 덩어리가 큰(하위 axis의 element가 많은) axis가 상위 axis이다.\n"
      ],
      "metadata": {
        "id": "zZaHEuq2AQcQ"
      }
    },
    {
      "cell_type": "code",
      "source": [
        "# Numpy와 비슷한 문법\n",
        "tensor = torch.FloatTensor([1, 2, 3, 4])\n",
        "print(tensor)\n",
        "print(tensor.shape)\n",
        "print(tensor[1:3])"
      ],
      "metadata": {
        "colab": {
          "base_uri": "https://localhost:8080/"
        },
        "id": "eiaQDIpXG7ym",
        "outputId": "ad0779ae-fe66-45eb-c78d-be2c3fbee9bc"
      },
      "execution_count": null,
      "outputs": [
        {
          "output_type": "stream",
          "name": "stdout",
          "text": [
            "tensor([1., 2., 3., 4.])\n",
            "torch.Size([4])\n",
            "tensor([2., 3.])\n"
          ]
        }
      ]
    },
    {
      "cell_type": "code",
      "source": [
        "# 3차원 이상\n",
        "tensor3d = torch.FloatTensor([ [[1, 2, 3, 4], \n",
        "                                [5, 6, 7, 8],\n",
        "                                [9, 10, 11, 12]],\n",
        "                              \n",
        "                               [[13, 14, 15, 16],\n",
        "                                [17, 18, 19, 20],\n",
        "                                [21, 22, 23, 24]] ])\n",
        "print(tensor3d)\n",
        "print(tensor3d.shape)"
      ],
      "metadata": {
        "colab": {
          "base_uri": "https://localhost:8080/"
        },
        "id": "OejyIU59HBqV",
        "outputId": "59c00657-5fdd-4226-80eb-62f6464fe8e5"
      },
      "execution_count": null,
      "outputs": [
        {
          "output_type": "stream",
          "name": "stdout",
          "text": [
            "tensor([[[ 1.,  2.,  3.,  4.],\n",
            "         [ 5.,  6.,  7.,  8.],\n",
            "         [ 9., 10., 11., 12.]],\n",
            "\n",
            "        [[13., 14., 15., 16.],\n",
            "         [17., 18., 19., 20.],\n",
            "         [21., 22., 23., 24.]]])\n",
            "torch.Size([2, 3, 4])\n"
          ]
        }
      ]
    },
    {
      "cell_type": "markdown",
      "source": [
        "# 2 Tensor Combinations\n",
        "- Concatenation\n",
        "  - 경계를 무너뜨리며 붙인다"
      ],
      "metadata": {
        "id": "QjWVcoq0Hm82"
      }
    },
    {
      "cell_type": "code",
      "source": [
        "x = torch.FloatTensor([[1, 2], [3, 4]])\n",
        "y = torch.FloatTensor([[5, 6], [7, 8]])\n",
        "print(x)\n",
        "print(y)\n",
        "print(torch.cat([x,y], dim = 0))\n",
        "print(torch.cat([x,y], dim = 1))\n",
        "torch.cat([x,y], dim = 1).shape"
      ],
      "metadata": {
        "colab": {
          "base_uri": "https://localhost:8080/"
        },
        "id": "cXsubpw7HuJQ",
        "outputId": "d17a3cbc-ae62-4591-afd9-5936cfa01b23"
      },
      "execution_count": null,
      "outputs": [
        {
          "output_type": "stream",
          "name": "stdout",
          "text": [
            "tensor([[1., 2.],\n",
            "        [3., 4.]])\n",
            "tensor([[5., 6.],\n",
            "        [7., 8.]])\n",
            "tensor([[1., 2.],\n",
            "        [3., 4.],\n",
            "        [5., 6.],\n",
            "        [7., 8.]])\n",
            "tensor([[1., 2., 5., 6.],\n",
            "        [3., 4., 7., 8.]])\n"
          ]
        },
        {
          "output_type": "execute_result",
          "data": {
            "text/plain": [
              "torch.Size([2, 4])"
            ]
          },
          "metadata": {},
          "execution_count": 26
        }
      ]
    },
    {
      "cell_type": "markdown",
      "source": [
        "- Stack  \n",
        "  - 경계를 구분한 채로 붙인다"
      ],
      "metadata": {
        "id": "NdOrLRroIuh7"
      }
    },
    {
      "cell_type": "code",
      "source": [
        "print(torch.stack([x,y], dim = 0))\n",
        "print(torch.stack([x,y], dim = 1))"
      ],
      "metadata": {
        "colab": {
          "base_uri": "https://localhost:8080/"
        },
        "id": "Ej3HJHVDJCbS",
        "outputId": "96638c03-c5b0-4cd8-aae0-30af8c98921f"
      },
      "execution_count": null,
      "outputs": [
        {
          "output_type": "stream",
          "name": "stdout",
          "text": [
            "tensor([[[1., 2.],\n",
            "         [3., 4.]],\n",
            "\n",
            "        [[5., 6.],\n",
            "         [7., 8.]]])\n",
            "tensor([[[1., 2.],\n",
            "         [5., 6.]],\n",
            "\n",
            "        [[3., 4.],\n",
            "         [7., 8.]]])\n"
          ]
        }
      ]
    },
    {
      "cell_type": "markdown",
      "source": [
        "- View / Reshape\n",
        "  - data를 유지한 채 shape을 변형한다\n",
        "    - Pointer를 반환하므로 원본을 훼손하지 않으려면 복사본을 이용한다\n",
        "    - 반환된 tensor는 원본 tensor와 기반이 되는 data를 공유한다. 만약 반환된 tensor의 값이 변경된다면, viewed되는 tensor에서 해당하는 값이 변경된다. \n",
        "    - 원본 tensor의 복사본 혹은 view를 반환한다. 그러니 결국 copy를 받을지 view를 받을지 모른다. 만약 원본 input과 동일한 저장이 필요할 경우, clone()을 이용해서 copy하거나 view()를 이용해야한다고 한다."
      ],
      "metadata": {
        "id": "wbPA777iJUQS"
      }
    },
    {
      "cell_type": "code",
      "source": [
        "x = torch.rand(2, 3, 4)  # [2, 3, 4] \n",
        "y = x.view(2, -1)  # [2, 12] \n",
        "z = x.reshape(2, -1) # [2, 12]\n",
        "print(x)\n",
        "print(y)\n",
        "print(z)\n",
        "z[0] = 0.0\n",
        "print(x)"
      ],
      "metadata": {
        "colab": {
          "base_uri": "https://localhost:8080/"
        },
        "id": "pb_9wnA0JZYn",
        "outputId": "0e5b7c81-18d6-4b82-b017-fbee670572ce"
      },
      "execution_count": null,
      "outputs": [
        {
          "output_type": "stream",
          "name": "stdout",
          "text": [
            "tensor([[[0.0276, 0.3809, 0.3881, 0.9102],\n",
            "         [0.0641, 0.7622, 0.6952, 0.4491],\n",
            "         [0.0014, 0.1051, 0.4315, 0.9155]],\n",
            "\n",
            "        [[0.9487, 0.6612, 0.3796, 0.5857],\n",
            "         [0.6095, 0.2899, 0.1028, 0.2640],\n",
            "         [0.1117, 0.7060, 0.8680, 0.7170]]])\n",
            "tensor([[0.0276, 0.3809, 0.3881, 0.9102, 0.0641, 0.7622, 0.6952, 0.4491, 0.0014,\n",
            "         0.1051, 0.4315, 0.9155],\n",
            "        [0.9487, 0.6612, 0.3796, 0.5857, 0.6095, 0.2899, 0.1028, 0.2640, 0.1117,\n",
            "         0.7060, 0.8680, 0.7170]])\n",
            "tensor([[0.0276, 0.3809, 0.3881, 0.9102, 0.0641, 0.7622, 0.6952, 0.4491, 0.0014,\n",
            "         0.1051, 0.4315, 0.9155],\n",
            "        [0.9487, 0.6612, 0.3796, 0.5857, 0.6095, 0.2899, 0.1028, 0.2640, 0.1117,\n",
            "         0.7060, 0.8680, 0.7170]])\n",
            "tensor([[[0.0000, 0.0000, 0.0000, 0.0000],\n",
            "         [0.0000, 0.0000, 0.0000, 0.0000],\n",
            "         [0.0000, 0.0000, 0.0000, 0.0000]],\n",
            "\n",
            "        [[0.9487, 0.6612, 0.3796, 0.5857],\n",
            "         [0.6095, 0.2899, 0.1028, 0.2640],\n",
            "         [0.1117, 0.7060, 0.8680, 0.7170]]])\n"
          ]
        }
      ]
    },
    {
      "cell_type": "markdown",
      "source": [
        "- Squeeze\n",
        "  - 불필요한 rank를 줄인다"
      ],
      "metadata": {
        "id": "2u3V31yGJcLC"
      }
    },
    {
      "cell_type": "code",
      "source": [
        "_data = np.array([1,2,3,4])\n",
        "x = torch.from_numpy(_data)\n",
        "print(x)\n",
        "print(x.T)\n",
        "_data = np.array([_data])\n",
        "x = torch.from_numpy(_data)\n",
        "print(x)\n",
        "print(x.T)\n",
        "print(x.T.squeeze())"
      ],
      "metadata": {
        "colab": {
          "base_uri": "https://localhost:8080/"
        },
        "id": "Wx6ofaNiJfjb",
        "outputId": "1f1cc508-6133-4a50-ae93-ed3da63fb640"
      },
      "execution_count": null,
      "outputs": [
        {
          "output_type": "stream",
          "name": "stdout",
          "text": [
            "tensor([1, 2, 3, 4])\n",
            "tensor([1, 2, 3, 4])\n",
            "tensor([[1, 2, 3, 4]])\n",
            "tensor([[1],\n",
            "        [2],\n",
            "        [3],\n",
            "        [4]])\n",
            "tensor([1, 2, 3, 4])\n"
          ]
        }
      ]
    },
    {
      "cell_type": "markdown",
      "source": [
        "# 3 Tensor Operations\n",
        "## 사칙연산 - 요소별(Element-wise) 연산"
      ],
      "metadata": {
        "id": "dHU_in04JzXU"
      }
    },
    {
      "cell_type": "code",
      "source": [
        "# 요소별 곱셈\n",
        "print(tensor)\n",
        "print(tensor3d)\n",
        "print(tensor * tensor3d) #직관적으로 가능할 지 판단."
      ],
      "metadata": {
        "colab": {
          "base_uri": "https://localhost:8080/"
        },
        "id": "Hbm1R_uHJ4bS",
        "outputId": "8c8d13db-9931-4852-b3e2-057c7d7deb91"
      },
      "execution_count": null,
      "outputs": [
        {
          "output_type": "stream",
          "name": "stdout",
          "text": [
            "tensor([1., 2., 3., 4.])\n",
            "tensor([[[ 1.,  2.,  3.,  4.],\n",
            "         [ 5.,  6.,  7.,  8.],\n",
            "         [ 9., 10., 11., 12.]],\n",
            "\n",
            "        [[13., 14., 15., 16.],\n",
            "         [17., 18., 19., 20.],\n",
            "         [21., 22., 23., 24.]]])\n",
            "tensor([[[ 1.,  4.,  9., 16.],\n",
            "         [ 5., 12., 21., 32.],\n",
            "         [ 9., 20., 33., 48.]],\n",
            "\n",
            "        [[13., 28., 45., 64.],\n",
            "         [17., 36., 57., 80.],\n",
            "         [21., 44., 69., 96.]]])\n"
          ]
        }
      ]
    },
    {
      "cell_type": "code",
      "source": [
        "tensor3d = torch.FloatTensor([ [[1, 2], \n",
        "                                [5, 6]\n",
        "                                ],\n",
        "                              \n",
        "                              [[1, 2], \n",
        "                                [5, 6]],\n",
        "                              \n",
        "                              \n",
        "                               [[13, 14],\n",
        "                                [17, 18]] ])\n",
        "tensor3d.shape\n",
        "torch.stack([tensor3d,tensor3d,tensor3d], dim = 1).shape\n"
      ],
      "metadata": {
        "colab": {
          "base_uri": "https://localhost:8080/"
        },
        "id": "fFkLcaJH9Goo",
        "outputId": "32d794ea-3e5a-43d6-b1a1-b2eb96bda1bf"
      },
      "execution_count": null,
      "outputs": [
        {
          "output_type": "execute_result",
          "data": {
            "text/plain": [
              "torch.Size([3, 3, 2, 2])"
            ]
          },
          "metadata": {},
          "execution_count": 42
        }
      ]
    },
    {
      "cell_type": "code",
      "source": [
        "# 상수 덧셈\n",
        "print(tensor3d + 3)"
      ],
      "metadata": {
        "colab": {
          "base_uri": "https://localhost:8080/"
        },
        "id": "_XGXIWZBJ9kf",
        "outputId": "e2ec049b-457c-4264-c14a-25bc4a49d4fc"
      },
      "execution_count": null,
      "outputs": [
        {
          "output_type": "stream",
          "name": "stdout",
          "text": [
            "tensor([[[ 4.,  5.,  6.,  7.],\n",
            "         [ 8.,  9., 10., 11.],\n",
            "         [12., 13., 14., 15.]],\n",
            "\n",
            "        [[16., 17., 18., 19.],\n",
            "         [20., 21., 22., 23.],\n",
            "         [24., 25., 26., 27.]]])\n"
          ]
        }
      ]
    },
    {
      "cell_type": "code",
      "source": [
        "# tensor 덧셈\n",
        "tensor_a = torch.FloatTensor([1, 2, 3, 4])\n",
        "tensor_b = torch.FloatTensor([[1], [2], [3]])\n",
        "tensor_c = torch.FloatTensor([[[1]],[[2]]])\n",
        "print(tensor3d)\n",
        "print(tensor3d + tensor_a)\n",
        "print(tensor3d + tensor_b)\n",
        "print(tensor3d + tensor_c)"
      ],
      "metadata": {
        "colab": {
          "base_uri": "https://localhost:8080/"
        },
        "id": "MEMNWixpJ_Ra",
        "outputId": "ad982adf-2025-489e-9a8e-8e9d1b18ea69"
      },
      "execution_count": null,
      "outputs": [
        {
          "output_type": "stream",
          "name": "stdout",
          "text": [
            "tensor([[[ 1.,  2.,  3.,  4.],\n",
            "         [ 5.,  6.,  7.,  8.],\n",
            "         [ 9., 10., 11., 12.]],\n",
            "\n",
            "        [[13., 14., 15., 16.],\n",
            "         [17., 18., 19., 20.],\n",
            "         [21., 22., 23., 24.]]])\n",
            "tensor([[[ 2.,  4.,  6.,  8.],\n",
            "         [ 6.,  8., 10., 12.],\n",
            "         [10., 12., 14., 16.]],\n",
            "\n",
            "        [[14., 16., 18., 20.],\n",
            "         [18., 20., 22., 24.],\n",
            "         [22., 24., 26., 28.]]])\n",
            "tensor([[[ 2.,  3.,  4.,  5.],\n",
            "         [ 7.,  8.,  9., 10.],\n",
            "         [12., 13., 14., 15.]],\n",
            "\n",
            "        [[14., 15., 16., 17.],\n",
            "         [19., 20., 21., 22.],\n",
            "         [24., 25., 26., 27.]]])\n",
            "tensor([[[ 2.,  3.,  4.,  5.],\n",
            "         [ 6.,  7.,  8.,  9.],\n",
            "         [10., 11., 12., 13.]],\n",
            "\n",
            "        [[15., 16., 17., 18.],\n",
            "         [19., 20., 21., 22.],\n",
            "         [23., 24., 25., 26.]]])\n"
          ]
        }
      ]
    },
    {
      "cell_type": "markdown",
      "source": [
        "- Tensor transpose\n",
        "  - shape(2, 3, 4) >> shape(4, 3, 2)\n",
        "  - 3차원의 경우, 머릿속으로 상상하기 힘들다"
      ],
      "metadata": {
        "id": "1F03cfeSKA9B"
      }
    },
    {
      "cell_type": "code",
      "source": [
        "print(tensor3d)\n",
        "print(tensor3d.T)"
      ],
      "metadata": {
        "colab": {
          "base_uri": "https://localhost:8080/"
        },
        "id": "LzlcklJqKIw7",
        "outputId": "a9dac8ee-6912-4f37-bc05-edc9fcad9b89"
      },
      "execution_count": null,
      "outputs": [
        {
          "output_type": "stream",
          "name": "stdout",
          "text": [
            "tensor([[[ 1.,  2.,  3.,  4.],\n",
            "         [ 5.,  6.,  7.,  8.],\n",
            "         [ 9., 10., 11., 12.]],\n",
            "\n",
            "        [[13., 14., 15., 16.],\n",
            "         [17., 18., 19., 20.],\n",
            "         [21., 22., 23., 24.]]])\n",
            "tensor([[[ 1., 13.],\n",
            "         [ 5., 17.],\n",
            "         [ 9., 21.]],\n",
            "\n",
            "        [[ 2., 14.],\n",
            "         [ 6., 18.],\n",
            "         [10., 22.]],\n",
            "\n",
            "        [[ 3., 15.],\n",
            "         [ 7., 19.],\n",
            "         [11., 23.]],\n",
            "\n",
            "        [[ 4., 16.],\n",
            "         [ 8., 20.],\n",
            "         [12., 24.]]])\n"
          ]
        }
      ]
    },
    {
      "cell_type": "markdown",
      "source": [
        "- Tensor dot product\n",
        "  - 마찬가지로 3차원의 경우, 머릿속으로 상상하기 힘들기 때문에 수식에 오류가 없음을 반드시 확인해야한다\n",
        "  - shape(2,3,4) * shape(4) >> shape(2,3)"
      ],
      "metadata": {
        "id": "xufiAI0HKOtP"
      }
    },
    {
      "cell_type": "code",
      "source": [
        "print(tensor3d.matmul(tensor))"
      ],
      "metadata": {
        "colab": {
          "base_uri": "https://localhost:8080/"
        },
        "id": "14KuUVKwKzsM",
        "outputId": "3fe940ce-d26e-46a5-e5db-fe03a713489b"
      },
      "execution_count": null,
      "outputs": [
        {
          "output_type": "stream",
          "name": "stdout",
          "text": [
            "tensor([[ 30.,  70., 110.],\n",
            "        [150., 190., 230.]])\n"
          ]
        }
      ]
    },
    {
      "cell_type": "markdown",
      "source": [
        "- Mean, Sum, Max"
      ],
      "metadata": {
        "id": "xohj3bIqK1WO"
      }
    },
    {
      "cell_type": "code",
      "source": [
        "print(tensor3d)\n",
        "print(tensor3d.mean())\n",
        "print(tensor3d.shape)\n",
        "print(tensor3d.mean(dim=0))\n",
        "print(tensor3d.mean(dim=1))\n",
        "print(tensor3d.mean(dim=2))"
      ],
      "metadata": {
        "colab": {
          "base_uri": "https://localhost:8080/"
        },
        "id": "-GNitbH-LAEv",
        "outputId": "45606d4d-0ee1-4d60-e6a9-ee5b7294720a"
      },
      "execution_count": null,
      "outputs": [
        {
          "output_type": "stream",
          "name": "stdout",
          "text": [
            "tensor([[[ 1.,  2.,  3.,  4.],\n",
            "         [ 5.,  6.,  7.,  8.],\n",
            "         [ 9., 10., 11., 12.]],\n",
            "\n",
            "        [[13., 14., 15., 16.],\n",
            "         [17., 18., 19., 20.],\n",
            "         [21., 22., 23., 24.]]])\n",
            "tensor(12.5000)\n",
            "torch.Size([2, 3, 4])\n",
            "tensor([[ 7.,  8.,  9., 10.],\n",
            "        [11., 12., 13., 14.],\n",
            "        [15., 16., 17., 18.]])\n",
            "tensor([[ 5.,  6.,  7.,  8.],\n",
            "        [17., 18., 19., 20.]])\n",
            "tensor([[ 2.5000,  6.5000, 10.5000],\n",
            "        [14.5000, 18.5000, 22.5000]])\n"
          ]
        }
      ]
    },
    {
      "cell_type": "code",
      "source": [
        "print(tensor3d.sum())\n",
        "print(tensor3d.sum(dim=0))"
      ],
      "metadata": {
        "colab": {
          "base_uri": "https://localhost:8080/"
        },
        "id": "3X9QH8CGLCHo",
        "outputId": "f3119c41-c9da-4df3-ddb7-b427ef336f79"
      },
      "execution_count": null,
      "outputs": [
        {
          "output_type": "stream",
          "name": "stdout",
          "text": [
            "tensor(300.)\n",
            "tensor([[14., 16., 18., 20.],\n",
            "        [22., 24., 26., 28.],\n",
            "        [30., 32., 34., 36.]])\n"
          ]
        }
      ]
    },
    {
      "cell_type": "code",
      "source": [
        "print(tensor3d.max())\n",
        "print(tensor3d.max(dim=1))\n",
        "values, indices = tensor3d.max(dim=1)\n",
        "print(values)"
      ],
      "metadata": {
        "colab": {
          "base_uri": "https://localhost:8080/"
        },
        "id": "nty_2CdRLDn8",
        "outputId": "aee50109-3bce-4c55-ba27-a1716bf9f5a0"
      },
      "execution_count": null,
      "outputs": [
        {
          "output_type": "stream",
          "name": "stdout",
          "text": [
            "tensor(24.)\n",
            "torch.return_types.max(\n",
            "values=tensor([[ 9., 10., 11., 12.],\n",
            "        [21., 22., 23., 24.]]),\n",
            "indices=tensor([[2, 2, 2, 2],\n",
            "        [2, 2, 2, 2]]))\n",
            "tensor([[ 9., 10., 11., 12.],\n",
            "        [21., 22., 23., 24.]])\n"
          ]
        }
      ]
    },
    {
      "cell_type": "markdown",
      "source": [
        "- 역행렬"
      ],
      "metadata": {
        "id": "YeKz8HZ4LFLN"
      }
    },
    {
      "cell_type": "code",
      "source": [
        "tensor_square = torch.FloatTensor([[1, 7], [-4, 6]])\n",
        "print(torch.inverse(tensor_square))"
      ],
      "metadata": {
        "colab": {
          "base_uri": "https://localhost:8080/"
        },
        "id": "6OdxCdbSLJD9",
        "outputId": "40c2d4a9-dff5-440b-b455-94cc1e056f81"
      },
      "execution_count": null,
      "outputs": [
        {
          "output_type": "stream",
          "name": "stdout",
          "text": [
            "tensor([[ 0.1765, -0.2059],\n",
            "        [ 0.1176,  0.0294]])\n"
          ]
        }
      ]
    },
    {
      "cell_type": "code",
      "source": [
        "tensor_square.matmul(torch.inverse(tensor_square))\n",
        "#행렬곱이 단위 행렬이 나오는 것으로 보아 torch.inverse가 제대로 역행렬을 구해주는 것을 알 수 있음."
      ],
      "metadata": {
        "colab": {
          "base_uri": "https://localhost:8080/"
        },
        "id": "3MLIHojoLJZP",
        "outputId": "8f6cde70-d5e9-4442-f420-565d14e8c57d"
      },
      "execution_count": null,
      "outputs": [
        {
          "output_type": "execute_result",
          "data": {
            "text/plain": [
              "tensor([[1., 0.],\n",
              "        [0., 1.]])"
            ]
          },
          "metadata": {},
          "execution_count": 31
        }
      ]
    },
    {
      "cell_type": "code",
      "source": [
        "A = torch.FloatTensor([[0, 1], [1, 1], [2, 1], [3, 1]])"
      ],
      "metadata": {
        "id": "MqeoOUZbLYhJ"
      },
      "execution_count": null,
      "outputs": []
    },
    {
      "cell_type": "code",
      "source": [
        "print(torch.inverse(A))\n",
        "# A는 역행렬 존재하지 않는다."
      ],
      "metadata": {
        "colab": {
          "base_uri": "https://localhost:8080/",
          "height": 173
        },
        "id": "k7LFb5HDOczE",
        "outputId": "4d02e5b8-f41c-465e-9348-b1e781446bf3"
      },
      "execution_count": null,
      "outputs": [
        {
          "output_type": "error",
          "ename": "RuntimeError",
          "evalue": "ignored",
          "traceback": [
            "\u001b[0;31m---------------------------------------------------------------------------\u001b[0m",
            "\u001b[0;31mRuntimeError\u001b[0m                              Traceback (most recent call last)",
            "\u001b[0;32m<ipython-input-34-c300473623da>\u001b[0m in \u001b[0;36m<module>\u001b[0;34m\u001b[0m\n\u001b[0;32m----> 1\u001b[0;31m \u001b[0mprint\u001b[0m\u001b[0;34m(\u001b[0m\u001b[0mtorch\u001b[0m\u001b[0;34m.\u001b[0m\u001b[0minverse\u001b[0m\u001b[0;34m(\u001b[0m\u001b[0mA\u001b[0m\u001b[0;34m)\u001b[0m\u001b[0;34m)\u001b[0m\u001b[0;34m\u001b[0m\u001b[0;34m\u001b[0m\u001b[0m\n\u001b[0m",
            "\u001b[0;31mRuntimeError\u001b[0m: linalg.inv_ex: A must be batches of square matrices, but they are 2 by 4 matrices"
          ]
        }
      ]
    },
    {
      "cell_type": "markdown",
      "source": [
        "실제 A의 역행렬이 존재하지 않아 x가 존재하지 않으나 오차 = Measured Value − True Value로 정의할 때 오차의 제곱을 최소화 하는 방법으로  \n",
        "근사 해를 찾게되고 \n",
        "여기서 사용되는 방법이 Pseudo Inverse Matrix입니다.  \n",
        "역행렬대신 사용되는 의사역행렬은 다음과 같습니다.  \n",
        "__A<SUP>+</SUP> = (A<SUP>T</SUP>A)<SUP>-1</SUP>A<SUP>T</SUP>__  \n",
        "\n",
        "X = A<SUP>+</SUP>B "
      ],
      "metadata": {
        "id": "VDMgmZNcOeG9"
      }
    },
    {
      "cell_type": "code",
      "source": [
        "B = torch.FloatTensor([[-1],[0.2],[0.9],[2.1]])"
      ],
      "metadata": {
        "id": "YaJaXzEwOpb-"
      },
      "execution_count": null,
      "outputs": []
    },
    {
      "cell_type": "code",
      "source": [
        "temp1 = A.T.matmul(A) # A전치행렬과 A의 행렬곱을 temp1에 저장합니다.\n",
        "temp2 = torch.inverse(temp1) # temp1에 저장된 행렬의 역행렬을 구하고 그 행렬을 다시 temp2라 합니다.\n",
        "P_I_A = temp2.matmul(A.T) # temp2와 A전치행렬의 행렬곱이 구하는 의사 역행렬입니다."
      ],
      "metadata": {
        "id": "Xc04N9BxOzPX"
      },
      "execution_count": null,
      "outputs": []
    },
    {
      "cell_type": "code",
      "source": [
        "X = P_I_A.matmul(B) # 의사역행렬과 B의 행렬곱이 구하는 근사해 입니다."
      ],
      "metadata": {
        "id": "YR1dP5mkPK1O"
      },
      "execution_count": null,
      "outputs": []
    },
    {
      "cell_type": "code",
      "source": [
        "print(X) #우리가 구하고자 하는 해를 출력해보았습니다.\n",
        "A.matmul(X) #B와는 어느 정도 오차가 존재함을 확인하였습니다."
      ],
      "metadata": {
        "colab": {
          "base_uri": "https://localhost:8080/"
        },
        "id": "8ODRvtIdPSmU",
        "outputId": "d46f1fe9-4819-4aee-97ce-24e8a3eb5f16"
      },
      "execution_count": null,
      "outputs": [
        {
          "output_type": "stream",
          "name": "stdout",
          "text": [
            "tensor([[ 1.0000],\n",
            "        [-0.9500]])\n"
          ]
        },
        {
          "output_type": "execute_result",
          "data": {
            "text/plain": [
              "tensor([[-0.9500],\n",
              "        [ 0.0500],\n",
              "        [ 1.0500],\n",
              "        [ 2.0500]])"
            ]
          },
          "metadata": {},
          "execution_count": 38
        }
      ]
    }
  ]
}